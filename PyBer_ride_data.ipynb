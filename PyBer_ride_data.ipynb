{
 "cells": [
  {
   "cell_type": "markdown",
   "id": "c946c166",
   "metadata": {},
   "source": [
    "# Plot a Pandas DataFrame and Series\n",
    "Module 5.1.10"
   ]
  },
  {
   "cell_type": "code",
   "execution_count": null,
   "id": "1a0475ee",
   "metadata": {},
   "outputs": [],
   "source": []
  }
 ],
 "metadata": {
  "kernelspec": {
   "display_name": "PythonData",
   "language": "python",
   "name": "pythondata"
  },
  "language_info": {
   "codemirror_mode": {
    "name": "ipython",
    "version": 3
   },
   "file_extension": ".py",
   "mimetype": "text/x-python",
   "name": "python",
   "nbconvert_exporter": "python",
   "pygments_lexer": "ipython3",
   "version": "3.7.11"
  }
 },
 "nbformat": 4,
 "nbformat_minor": 5
}
